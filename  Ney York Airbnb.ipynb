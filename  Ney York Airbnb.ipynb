{
 "cells": [
  {
   "cell_type": "code",
   "execution_count": 1,
   "metadata": {},
   "outputs": [],
   "source": [
    "# Brief intro about dataset"
   ]
  },
  {
   "cell_type": "code",
   "execution_count": 2,
   "metadata": {},
   "outputs": [
    {
     "data": {
      "text/plain": [
       "'\\nSince 2008, guests and hosts have used Airbnb to expand on traveling possibilities and present more unique, personalized way of\\nexperiencing the world. This dataset describes the listing activity and metrics in NYC, NY for 2019.\\n\\nThis data file includes all needed information to find out more about hosts, geographical availability, necessary metrics to \\nmake predictions and draw conclusions.\\n'"
      ]
     },
     "execution_count": 2,
     "metadata": {},
     "output_type": "execute_result"
    }
   ],
   "source": [
    "'''\n",
    "Since 2008, guests and hosts have used Airbnb to expand on traveling possibilities and present more unique, personalized way of\n",
    "experiencing the world. This dataset describes the listing activity and metrics in NYC, NY for 2019.\n",
    "\n",
    "This data file includes all needed information to find out more about hosts, geographical availability, necessary metrics to \n",
    "make predictions and draw conclusions.\n",
    "'''"
   ]
  },
  {
   "cell_type": "code",
   "execution_count": 3,
   "metadata": {},
   "outputs": [
    {
     "data": {
      "text/plain": [
       "'\\nWhat can we learn about different hosts and areas?\\nWhat can we learn from predictions? (ex: locations, prices, reviews, etc)\\nWhich hosts are the busiest and why?\\nIs there any noticeable difference of traffic among different areas and what could be the reason for it?\\n'"
      ]
     },
     "execution_count": 3,
     "metadata": {},
     "output_type": "execute_result"
    }
   ],
   "source": [
    "'''\n",
    "What can we learn about different hosts and areas?\n",
    "What can we learn from predictions? (ex: locations, prices, reviews, etc)\n",
    "Which hosts are the busiest and why?\n",
    "Is there any noticeable difference of traffic among different areas and what could be the reason for it?\n",
    "'''"
   ]
  },
  {
   "cell_type": "code",
   "execution_count": 4,
   "metadata": {},
   "outputs": [],
   "source": [
    "# Import all necessary libraries"
   ]
  },
  {
   "cell_type": "code",
   "execution_count": 3,
   "metadata": {},
   "outputs": [],
   "source": [
    "import numpy as np\n",
    "import pandas as pd\n",
    "import matplotlib.pyplot as plt\n",
    "%matplotlib inline\n",
    "import seaborn as sns\n",
    "from sklearn.preprocessing import LabelEncoder\n",
    "from sklearn import datasets\n",
    "from sklearn.metrics import r2_score\n",
    "from sklearn.preprocessing import StandardScaler\n",
    "from sklearn import linear_model\n",
    "from sklearn.metrics import mean_squared_error\n",
    "from sklearn.model_selection import train_test_split\n",
    "from sklearn import svm\n",
    "from sklearn.tree import DecisionTreeClassifier\n",
    "from sklearn.ensemble import RandomForestClassifier\n",
    "from sklearn.linear_model import LogisticRegression\n",
    "from sklearn.metrics import roc_curve, auc ,accuracy_score,cohen_kappa_score,confusion_matrix,classification_report,recall_score,precision_score\n",
    "from pprint import pprint\n",
    "from sklearn.ensemble import RandomForestRegressor\n",
    "from sklearn.tree import DecisionTreeRegressor\n",
    "from sklearn.decomposition import PCA\n",
    "import sklearn.feature_selection\n",
    "from sklearn.neighbors import KNeighborsClassifier\n",
    "from sklearn.metrics import confusion_matrix\n",
    "from sklearn.cluster import KMeans\n",
    "from sklearn import preprocessing\n",
    "from sklearn.metrics import silhouette_score\n",
    "from sklearn.linear_model import LinearRegression\n",
    "from sklearn.metrics import mean_absolute_error\n",
    "from pandas.plotting import scatter_matrix\n",
    "from sklearn.discriminant_analysis import LinearDiscriminantAnalysis\n",
    "from sklearn.naive_bayes import GaussianNB\n",
    "from sklearn.model_selection import StratifiedKFold\n",
    "from sklearn.metrics import classification_report\n",
    "from sklearn.svm import SVC\n",
    "from sklearn.model_selection import cross_val_score\n",
    "from matplotlib import pyplot\n",
    "from sklearn.svm import SVR\n",
    "from sklearn.ensemble import BaggingClassifier\n",
    "from sklearn.ensemble import ExtraTreesClassifier\n",
    "from sklearn.ensemble import BaggingRegressor"
   ]
  },
  {
   "cell_type": "code",
   "execution_count": 6,
   "metadata": {},
   "outputs": [],
   "source": [
    "# Loading dataset "
   ]
  },
  {
   "cell_type": "code",
   "execution_count": 16,
   "metadata": {},
   "outputs": [],
   "source": [
    "bnb=pd.read_csv(\"C://Users//acer//Desktop//1sem//python//My stuff//new-york-city-airbnb-open-data//AB_NYC_2019.CSV\")"
   ]
  },
  {
   "cell_type": "code",
   "execution_count": 8,
   "metadata": {},
   "outputs": [],
   "source": [
    "# Looking at first few rows"
   ]
  },
  {
   "cell_type": "code",
   "execution_count": 9,
   "metadata": {},
   "outputs": [
    {
     "data": {
      "text/html": [
       "<div>\n",
       "<style scoped>\n",
       "    .dataframe tbody tr th:only-of-type {\n",
       "        vertical-align: middle;\n",
       "    }\n",
       "\n",
       "    .dataframe tbody tr th {\n",
       "        vertical-align: top;\n",
       "    }\n",
       "\n",
       "    .dataframe thead th {\n",
       "        text-align: right;\n",
       "    }\n",
       "</style>\n",
       "<table border=\"1\" class=\"dataframe\">\n",
       "  <thead>\n",
       "    <tr style=\"text-align: right;\">\n",
       "      <th></th>\n",
       "      <th>id</th>\n",
       "      <th>name</th>\n",
       "      <th>host_id</th>\n",
       "      <th>host_name</th>\n",
       "      <th>neighbourhood_group</th>\n",
       "      <th>neighbourhood</th>\n",
       "      <th>latitude</th>\n",
       "      <th>longitude</th>\n",
       "      <th>room_type</th>\n",
       "      <th>price</th>\n",
       "      <th>minimum_nights</th>\n",
       "      <th>number_of_reviews</th>\n",
       "      <th>last_review</th>\n",
       "      <th>reviews_per_month</th>\n",
       "      <th>calculated_host_listings_count</th>\n",
       "      <th>availability_365</th>\n",
       "    </tr>\n",
       "  </thead>\n",
       "  <tbody>\n",
       "    <tr>\n",
       "      <td>0</td>\n",
       "      <td>2539</td>\n",
       "      <td>Clean &amp; quiet apt home by the park</td>\n",
       "      <td>2787</td>\n",
       "      <td>John</td>\n",
       "      <td>Brooklyn</td>\n",
       "      <td>Kensington</td>\n",
       "      <td>40.64749</td>\n",
       "      <td>-73.97237</td>\n",
       "      <td>Private room</td>\n",
       "      <td>149</td>\n",
       "      <td>1</td>\n",
       "      <td>9</td>\n",
       "      <td>2018-10-19</td>\n",
       "      <td>0.21</td>\n",
       "      <td>6</td>\n",
       "      <td>365</td>\n",
       "    </tr>\n",
       "    <tr>\n",
       "      <td>1</td>\n",
       "      <td>2595</td>\n",
       "      <td>Skylit Midtown Castle</td>\n",
       "      <td>2845</td>\n",
       "      <td>Jennifer</td>\n",
       "      <td>Manhattan</td>\n",
       "      <td>Midtown</td>\n",
       "      <td>40.75362</td>\n",
       "      <td>-73.98377</td>\n",
       "      <td>Entire home/apt</td>\n",
       "      <td>225</td>\n",
       "      <td>1</td>\n",
       "      <td>45</td>\n",
       "      <td>2019-05-21</td>\n",
       "      <td>0.38</td>\n",
       "      <td>2</td>\n",
       "      <td>355</td>\n",
       "    </tr>\n",
       "    <tr>\n",
       "      <td>2</td>\n",
       "      <td>3647</td>\n",
       "      <td>THE VILLAGE OF HARLEM....NEW YORK !</td>\n",
       "      <td>4632</td>\n",
       "      <td>Elisabeth</td>\n",
       "      <td>Manhattan</td>\n",
       "      <td>Harlem</td>\n",
       "      <td>40.80902</td>\n",
       "      <td>-73.94190</td>\n",
       "      <td>Private room</td>\n",
       "      <td>150</td>\n",
       "      <td>3</td>\n",
       "      <td>0</td>\n",
       "      <td>NaN</td>\n",
       "      <td>NaN</td>\n",
       "      <td>1</td>\n",
       "      <td>365</td>\n",
       "    </tr>\n",
       "  </tbody>\n",
       "</table>\n",
       "</div>"
      ],
      "text/plain": [
       "     id                                 name  host_id  host_name  \\\n",
       "0  2539   Clean & quiet apt home by the park     2787       John   \n",
       "1  2595                Skylit Midtown Castle     2845   Jennifer   \n",
       "2  3647  THE VILLAGE OF HARLEM....NEW YORK !     4632  Elisabeth   \n",
       "\n",
       "  neighbourhood_group neighbourhood  latitude  longitude        room_type  \\\n",
       "0            Brooklyn    Kensington  40.64749  -73.97237     Private room   \n",
       "1           Manhattan       Midtown  40.75362  -73.98377  Entire home/apt   \n",
       "2           Manhattan        Harlem  40.80902  -73.94190     Private room   \n",
       "\n",
       "   price  minimum_nights  number_of_reviews last_review  reviews_per_month  \\\n",
       "0    149               1                  9  2018-10-19               0.21   \n",
       "1    225               1                 45  2019-05-21               0.38   \n",
       "2    150               3                  0         NaN                NaN   \n",
       "\n",
       "   calculated_host_listings_count  availability_365  \n",
       "0                               6               365  \n",
       "1                               2               355  \n",
       "2                               1               365  "
      ]
     },
     "execution_count": 9,
     "metadata": {},
     "output_type": "execute_result"
    }
   ],
   "source": [
    "bnb.head(3)"
   ]
  },
  {
   "cell_type": "code",
   "execution_count": 10,
   "metadata": {},
   "outputs": [],
   "source": [
    "# Looking at last few rows"
   ]
  },
  {
   "cell_type": "code",
   "execution_count": 11,
   "metadata": {},
   "outputs": [
    {
     "data": {
      "text/html": [
       "<div>\n",
       "<style scoped>\n",
       "    .dataframe tbody tr th:only-of-type {\n",
       "        vertical-align: middle;\n",
       "    }\n",
       "\n",
       "    .dataframe tbody tr th {\n",
       "        vertical-align: top;\n",
       "    }\n",
       "\n",
       "    .dataframe thead th {\n",
       "        text-align: right;\n",
       "    }\n",
       "</style>\n",
       "<table border=\"1\" class=\"dataframe\">\n",
       "  <thead>\n",
       "    <tr style=\"text-align: right;\">\n",
       "      <th></th>\n",
       "      <th>id</th>\n",
       "      <th>name</th>\n",
       "      <th>host_id</th>\n",
       "      <th>host_name</th>\n",
       "      <th>neighbourhood_group</th>\n",
       "      <th>neighbourhood</th>\n",
       "      <th>latitude</th>\n",
       "      <th>longitude</th>\n",
       "      <th>room_type</th>\n",
       "      <th>price</th>\n",
       "      <th>minimum_nights</th>\n",
       "      <th>number_of_reviews</th>\n",
       "      <th>last_review</th>\n",
       "      <th>reviews_per_month</th>\n",
       "      <th>calculated_host_listings_count</th>\n",
       "      <th>availability_365</th>\n",
       "    </tr>\n",
       "  </thead>\n",
       "  <tbody>\n",
       "    <tr>\n",
       "      <td>48892</td>\n",
       "      <td>36485431</td>\n",
       "      <td>Sunny Studio at Historical Neighborhood</td>\n",
       "      <td>23492952</td>\n",
       "      <td>Ilgar &amp; Aysel</td>\n",
       "      <td>Manhattan</td>\n",
       "      <td>Harlem</td>\n",
       "      <td>40.81475</td>\n",
       "      <td>-73.94867</td>\n",
       "      <td>Entire home/apt</td>\n",
       "      <td>115</td>\n",
       "      <td>10</td>\n",
       "      <td>0</td>\n",
       "      <td>NaN</td>\n",
       "      <td>NaN</td>\n",
       "      <td>1</td>\n",
       "      <td>27</td>\n",
       "    </tr>\n",
       "    <tr>\n",
       "      <td>48893</td>\n",
       "      <td>36485609</td>\n",
       "      <td>43rd St. Time Square-cozy single bed</td>\n",
       "      <td>30985759</td>\n",
       "      <td>Taz</td>\n",
       "      <td>Manhattan</td>\n",
       "      <td>Hell's Kitchen</td>\n",
       "      <td>40.75751</td>\n",
       "      <td>-73.99112</td>\n",
       "      <td>Shared room</td>\n",
       "      <td>55</td>\n",
       "      <td>1</td>\n",
       "      <td>0</td>\n",
       "      <td>NaN</td>\n",
       "      <td>NaN</td>\n",
       "      <td>6</td>\n",
       "      <td>2</td>\n",
       "    </tr>\n",
       "    <tr>\n",
       "      <td>48894</td>\n",
       "      <td>36487245</td>\n",
       "      <td>Trendy duplex in the very heart of Hell's Kitchen</td>\n",
       "      <td>68119814</td>\n",
       "      <td>Christophe</td>\n",
       "      <td>Manhattan</td>\n",
       "      <td>Hell's Kitchen</td>\n",
       "      <td>40.76404</td>\n",
       "      <td>-73.98933</td>\n",
       "      <td>Private room</td>\n",
       "      <td>90</td>\n",
       "      <td>7</td>\n",
       "      <td>0</td>\n",
       "      <td>NaN</td>\n",
       "      <td>NaN</td>\n",
       "      <td>1</td>\n",
       "      <td>23</td>\n",
       "    </tr>\n",
       "  </tbody>\n",
       "</table>\n",
       "</div>"
      ],
      "text/plain": [
       "             id                                               name   host_id  \\\n",
       "48892  36485431            Sunny Studio at Historical Neighborhood  23492952   \n",
       "48893  36485609               43rd St. Time Square-cozy single bed  30985759   \n",
       "48894  36487245  Trendy duplex in the very heart of Hell's Kitchen  68119814   \n",
       "\n",
       "           host_name neighbourhood_group   neighbourhood  latitude  longitude  \\\n",
       "48892  Ilgar & Aysel           Manhattan          Harlem  40.81475  -73.94867   \n",
       "48893            Taz           Manhattan  Hell's Kitchen  40.75751  -73.99112   \n",
       "48894     Christophe           Manhattan  Hell's Kitchen  40.76404  -73.98933   \n",
       "\n",
       "             room_type  price  minimum_nights  number_of_reviews last_review  \\\n",
       "48892  Entire home/apt    115              10                  0         NaN   \n",
       "48893      Shared room     55               1                  0         NaN   \n",
       "48894     Private room     90               7                  0         NaN   \n",
       "\n",
       "       reviews_per_month  calculated_host_listings_count  availability_365  \n",
       "48892                NaN                               1                27  \n",
       "48893                NaN                               6                 2  \n",
       "48894                NaN                               1                23  "
      ]
     },
     "execution_count": 11,
     "metadata": {},
     "output_type": "execute_result"
    }
   ],
   "source": [
    "bnb.tail(3)"
   ]
  },
  {
   "cell_type": "code",
   "execution_count": 12,
   "metadata": {},
   "outputs": [],
   "source": [
    "# dataset shape"
   ]
  },
  {
   "cell_type": "code",
   "execution_count": 13,
   "metadata": {},
   "outputs": [
    {
     "data": {
      "text/plain": [
       "(48895, 16)"
      ]
     },
     "execution_count": 13,
     "metadata": {},
     "output_type": "execute_result"
    }
   ],
   "source": [
    "bnb.shape"
   ]
  },
  {
   "cell_type": "code",
   "execution_count": 14,
   "metadata": {},
   "outputs": [],
   "source": [
    "# Listing all columns of dataset"
   ]
  },
  {
   "cell_type": "code",
   "execution_count": 15,
   "metadata": {},
   "outputs": [
    {
     "data": {
      "text/plain": [
       "Index(['id', 'name', 'host_id', 'host_name', 'neighbourhood_group',\n",
       "       'neighbourhood', 'latitude', 'longitude', 'room_type', 'price',\n",
       "       'minimum_nights', 'number_of_reviews', 'last_review',\n",
       "       'reviews_per_month', 'calculated_host_listings_count',\n",
       "       'availability_365'],\n",
       "      dtype='object')"
      ]
     },
     "execution_count": 15,
     "metadata": {},
     "output_type": "execute_result"
    }
   ],
   "source": [
    "bnb.columns"
   ]
  },
  {
   "cell_type": "code",
   "execution_count": 16,
   "metadata": {},
   "outputs": [],
   "source": [
    "# Listing all columns datatype"
   ]
  },
  {
   "cell_type": "code",
   "execution_count": 17,
   "metadata": {},
   "outputs": [
    {
     "data": {
      "text/plain": [
       "id                                  int64\n",
       "name                               object\n",
       "host_id                             int64\n",
       "host_name                          object\n",
       "neighbourhood_group                object\n",
       "neighbourhood                      object\n",
       "latitude                          float64\n",
       "longitude                         float64\n",
       "room_type                          object\n",
       "price                               int64\n",
       "minimum_nights                      int64\n",
       "number_of_reviews                   int64\n",
       "last_review                        object\n",
       "reviews_per_month                 float64\n",
       "calculated_host_listings_count      int64\n",
       "availability_365                    int64\n",
       "dtype: object"
      ]
     },
     "execution_count": 17,
     "metadata": {},
     "output_type": "execute_result"
    }
   ],
   "source": [
    "bnb.dtypes"
   ]
  },
  {
   "cell_type": "code",
   "execution_count": 18,
   "metadata": {},
   "outputs": [],
   "source": [
    "# Looking at stats value of dataset"
   ]
  },
  {
   "cell_type": "code",
   "execution_count": 19,
   "metadata": {},
   "outputs": [
    {
     "data": {
      "text/html": [
       "<div>\n",
       "<style scoped>\n",
       "    .dataframe tbody tr th:only-of-type {\n",
       "        vertical-align: middle;\n",
       "    }\n",
       "\n",
       "    .dataframe tbody tr th {\n",
       "        vertical-align: top;\n",
       "    }\n",
       "\n",
       "    .dataframe thead th {\n",
       "        text-align: right;\n",
       "    }\n",
       "</style>\n",
       "<table border=\"1\" class=\"dataframe\">\n",
       "  <thead>\n",
       "    <tr style=\"text-align: right;\">\n",
       "      <th></th>\n",
       "      <th>id</th>\n",
       "      <th>host_id</th>\n",
       "      <th>latitude</th>\n",
       "      <th>longitude</th>\n",
       "      <th>price</th>\n",
       "      <th>minimum_nights</th>\n",
       "      <th>number_of_reviews</th>\n",
       "      <th>reviews_per_month</th>\n",
       "      <th>calculated_host_listings_count</th>\n",
       "      <th>availability_365</th>\n",
       "    </tr>\n",
       "  </thead>\n",
       "  <tbody>\n",
       "    <tr>\n",
       "      <td>count</td>\n",
       "      <td>4.889500e+04</td>\n",
       "      <td>4.889500e+04</td>\n",
       "      <td>48895.000000</td>\n",
       "      <td>48895.000000</td>\n",
       "      <td>48895.000000</td>\n",
       "      <td>48895.000000</td>\n",
       "      <td>48895.000000</td>\n",
       "      <td>38843.000000</td>\n",
       "      <td>48895.000000</td>\n",
       "      <td>48895.000000</td>\n",
       "    </tr>\n",
       "    <tr>\n",
       "      <td>mean</td>\n",
       "      <td>1.901714e+07</td>\n",
       "      <td>6.762001e+07</td>\n",
       "      <td>40.728949</td>\n",
       "      <td>-73.952170</td>\n",
       "      <td>152.720687</td>\n",
       "      <td>7.029962</td>\n",
       "      <td>23.274466</td>\n",
       "      <td>1.373221</td>\n",
       "      <td>7.143982</td>\n",
       "      <td>112.781327</td>\n",
       "    </tr>\n",
       "    <tr>\n",
       "      <td>std</td>\n",
       "      <td>1.098311e+07</td>\n",
       "      <td>7.861097e+07</td>\n",
       "      <td>0.054530</td>\n",
       "      <td>0.046157</td>\n",
       "      <td>240.154170</td>\n",
       "      <td>20.510550</td>\n",
       "      <td>44.550582</td>\n",
       "      <td>1.680442</td>\n",
       "      <td>32.952519</td>\n",
       "      <td>131.622289</td>\n",
       "    </tr>\n",
       "    <tr>\n",
       "      <td>min</td>\n",
       "      <td>2.539000e+03</td>\n",
       "      <td>2.438000e+03</td>\n",
       "      <td>40.499790</td>\n",
       "      <td>-74.244420</td>\n",
       "      <td>0.000000</td>\n",
       "      <td>1.000000</td>\n",
       "      <td>0.000000</td>\n",
       "      <td>0.010000</td>\n",
       "      <td>1.000000</td>\n",
       "      <td>0.000000</td>\n",
       "    </tr>\n",
       "    <tr>\n",
       "      <td>25%</td>\n",
       "      <td>9.471945e+06</td>\n",
       "      <td>7.822033e+06</td>\n",
       "      <td>40.690100</td>\n",
       "      <td>-73.983070</td>\n",
       "      <td>69.000000</td>\n",
       "      <td>1.000000</td>\n",
       "      <td>1.000000</td>\n",
       "      <td>0.190000</td>\n",
       "      <td>1.000000</td>\n",
       "      <td>0.000000</td>\n",
       "    </tr>\n",
       "    <tr>\n",
       "      <td>50%</td>\n",
       "      <td>1.967728e+07</td>\n",
       "      <td>3.079382e+07</td>\n",
       "      <td>40.723070</td>\n",
       "      <td>-73.955680</td>\n",
       "      <td>106.000000</td>\n",
       "      <td>3.000000</td>\n",
       "      <td>5.000000</td>\n",
       "      <td>0.720000</td>\n",
       "      <td>1.000000</td>\n",
       "      <td>45.000000</td>\n",
       "    </tr>\n",
       "    <tr>\n",
       "      <td>75%</td>\n",
       "      <td>2.915218e+07</td>\n",
       "      <td>1.074344e+08</td>\n",
       "      <td>40.763115</td>\n",
       "      <td>-73.936275</td>\n",
       "      <td>175.000000</td>\n",
       "      <td>5.000000</td>\n",
       "      <td>24.000000</td>\n",
       "      <td>2.020000</td>\n",
       "      <td>2.000000</td>\n",
       "      <td>227.000000</td>\n",
       "    </tr>\n",
       "    <tr>\n",
       "      <td>max</td>\n",
       "      <td>3.648724e+07</td>\n",
       "      <td>2.743213e+08</td>\n",
       "      <td>40.913060</td>\n",
       "      <td>-73.712990</td>\n",
       "      <td>10000.000000</td>\n",
       "      <td>1250.000000</td>\n",
       "      <td>629.000000</td>\n",
       "      <td>58.500000</td>\n",
       "      <td>327.000000</td>\n",
       "      <td>365.000000</td>\n",
       "    </tr>\n",
       "  </tbody>\n",
       "</table>\n",
       "</div>"
      ],
      "text/plain": [
       "                 id       host_id      latitude     longitude         price  \\\n",
       "count  4.889500e+04  4.889500e+04  48895.000000  48895.000000  48895.000000   \n",
       "mean   1.901714e+07  6.762001e+07     40.728949    -73.952170    152.720687   \n",
       "std    1.098311e+07  7.861097e+07      0.054530      0.046157    240.154170   \n",
       "min    2.539000e+03  2.438000e+03     40.499790    -74.244420      0.000000   \n",
       "25%    9.471945e+06  7.822033e+06     40.690100    -73.983070     69.000000   \n",
       "50%    1.967728e+07  3.079382e+07     40.723070    -73.955680    106.000000   \n",
       "75%    2.915218e+07  1.074344e+08     40.763115    -73.936275    175.000000   \n",
       "max    3.648724e+07  2.743213e+08     40.913060    -73.712990  10000.000000   \n",
       "\n",
       "       minimum_nights  number_of_reviews  reviews_per_month  \\\n",
       "count    48895.000000       48895.000000       38843.000000   \n",
       "mean         7.029962          23.274466           1.373221   \n",
       "std         20.510550          44.550582           1.680442   \n",
       "min          1.000000           0.000000           0.010000   \n",
       "25%          1.000000           1.000000           0.190000   \n",
       "50%          3.000000           5.000000           0.720000   \n",
       "75%          5.000000          24.000000           2.020000   \n",
       "max       1250.000000         629.000000          58.500000   \n",
       "\n",
       "       calculated_host_listings_count  availability_365  \n",
       "count                    48895.000000      48895.000000  \n",
       "mean                         7.143982        112.781327  \n",
       "std                         32.952519        131.622289  \n",
       "min                          1.000000          0.000000  \n",
       "25%                          1.000000          0.000000  \n",
       "50%                          1.000000         45.000000  \n",
       "75%                          2.000000        227.000000  \n",
       "max                        327.000000        365.000000  "
      ]
     },
     "execution_count": 19,
     "metadata": {},
     "output_type": "execute_result"
    }
   ],
   "source": [
    "bnb.describe()"
   ]
  },
  {
   "cell_type": "code",
   "execution_count": 20,
   "metadata": {},
   "outputs": [],
   "source": [
    "# Data Preparation"
   ]
  },
  {
   "cell_type": "code",
   "execution_count": 17,
   "metadata": {},
   "outputs": [
    {
     "data": {
      "text/plain": [
       "id                                    0\n",
       "name                                 16\n",
       "host_id                               0\n",
       "host_name                            21\n",
       "neighbourhood_group                   0\n",
       "neighbourhood                         0\n",
       "latitude                              0\n",
       "longitude                             0\n",
       "room_type                             0\n",
       "price                                 0\n",
       "minimum_nights                        0\n",
       "number_of_reviews                     0\n",
       "last_review                       10052\n",
       "reviews_per_month                 10052\n",
       "calculated_host_listings_count        0\n",
       "availability_365                      0\n",
       "dtype: int64"
      ]
     },
     "execution_count": 17,
     "metadata": {},
     "output_type": "execute_result"
    }
   ],
   "source": [
    "bnb.isna().sum()"
   ]
  },
  {
   "cell_type": "code",
   "execution_count": 22,
   "metadata": {},
   "outputs": [],
   "source": [
    "# Replacing null values"
   ]
  },
  {
   "cell_type": "code",
   "execution_count": 18,
   "metadata": {},
   "outputs": [],
   "source": [
    "bnb[\"name\"].replace(np.nan,\"Unknown\",inplace=True)"
   ]
  },
  {
   "cell_type": "code",
   "execution_count": 19,
   "metadata": {},
   "outputs": [],
   "source": [
    "bnb[\"host_name\"].replace(np.nan,\"Unknown\",inplace=True)"
   ]
  },
  {
   "cell_type": "code",
   "execution_count": 20,
   "metadata": {},
   "outputs": [],
   "source": [
    "bnb[\"last_review\"].replace(np.nan,\"0000-00-00\",inplace=True)"
   ]
  },
  {
   "cell_type": "code",
   "execution_count": 21,
   "metadata": {},
   "outputs": [],
   "source": [
    "bnb.reviews_per_month.fillna(bnb.reviews_per_month.mean(),inplace=True)"
   ]
  },
  {
   "cell_type": "code",
   "execution_count": 27,
   "metadata": {},
   "outputs": [],
   "source": [
    "# Lets check for any duplicate values"
   ]
  },
  {
   "cell_type": "code",
   "execution_count": 22,
   "metadata": {},
   "outputs": [],
   "source": [
    "bnb.drop_duplicates(inplace=True)"
   ]
  },
  {
   "cell_type": "code",
   "execution_count": 23,
   "metadata": {},
   "outputs": [
    {
     "data": {
      "text/plain": [
       "(48895, 16)"
      ]
     },
     "execution_count": 23,
     "metadata": {},
     "output_type": "execute_result"
    }
   ],
   "source": [
    "bnb.shape"
   ]
  },
  {
   "cell_type": "code",
   "execution_count": 30,
   "metadata": {},
   "outputs": [],
   "source": [
    "# Lets check whether we have done everything correct"
   ]
  },
  {
   "cell_type": "code",
   "execution_count": 12,
   "metadata": {},
   "outputs": [
    {
     "data": {
      "text/plain": [
       "id                                0\n",
       "name                              0\n",
       "host_id                           0\n",
       "host_name                         0\n",
       "neighbourhood_group               0\n",
       "neighbourhood                     0\n",
       "latitude                          0\n",
       "longitude                         0\n",
       "room_type                         0\n",
       "price                             0\n",
       "minimum_nights                    0\n",
       "number_of_reviews                 0\n",
       "last_review                       0\n",
       "reviews_per_month                 0\n",
       "calculated_host_listings_count    0\n",
       "availability_365                  0\n",
       "dtype: int64"
      ]
     },
     "execution_count": 12,
     "metadata": {},
     "output_type": "execute_result"
    }
   ],
   "source": [
    "bnb.isna().sum()"
   ]
  },
  {
   "cell_type": "code",
   "execution_count": 32,
   "metadata": {},
   "outputs": [
    {
     "data": {
      "text/plain": [
       "id                                  int64\n",
       "name                               object\n",
       "host_id                             int64\n",
       "host_name                          object\n",
       "neighbourhood_group                object\n",
       "neighbourhood                      object\n",
       "latitude                          float64\n",
       "longitude                         float64\n",
       "room_type                          object\n",
       "price                               int64\n",
       "minimum_nights                      int64\n",
       "number_of_reviews                   int64\n",
       "last_review                        object\n",
       "reviews_per_month                 float64\n",
       "calculated_host_listings_count      int64\n",
       "availability_365                    int64\n",
       "dtype: object"
      ]
     },
     "execution_count": 32,
     "metadata": {},
     "output_type": "execute_result"
    }
   ],
   "source": [
    "bnb.dtypes"
   ]
  },
  {
   "cell_type": "code",
   "execution_count": null,
   "metadata": {},
   "outputs": [],
   "source": [
    "# here we are deleting this name and host_name column as it has no relationship with our target variable"
   ]
  },
  {
   "cell_type": "code",
   "execution_count": 35,
   "metadata": {},
   "outputs": [],
   "source": [
    "bnb=bnb.drop(\"name\",axis=1)"
   ]
  },
  {
   "cell_type": "code",
   "execution_count": 45,
   "metadata": {},
   "outputs": [],
   "source": [
    "bnb=bnb.drop(\"host_name\",axis=1)"
   ]
  },
  {
   "cell_type": "code",
   "execution_count": null,
   "metadata": {},
   "outputs": [],
   "source": [
    "# lets apply one hot encoding to neighbourhood_group column"
   ]
  },
  {
   "cell_type": "code",
   "execution_count": 49,
   "metadata": {},
   "outputs": [],
   "source": [
    "bour=pd.get_dummies(bnb[\"neighbourhood_group\"],prefix=\"bour_\",drop_first=True)"
   ]
  },
  {
   "cell_type": "code",
   "execution_count": null,
   "metadata": {},
   "outputs": [],
   "source": [
    "# convering to dataframe"
   ]
  },
  {
   "cell_type": "code",
   "execution_count": 50,
   "metadata": {},
   "outputs": [],
   "source": [
    "bour_df=pd.DataFrame(bour,columns=bour.columns)"
   ]
  },
  {
   "cell_type": "code",
   "execution_count": null,
   "metadata": {},
   "outputs": [],
   "source": [
    "# concating with original dataframe"
   ]
  },
  {
   "cell_type": "code",
   "execution_count": 51,
   "metadata": {},
   "outputs": [],
   "source": [
    "bnb=pd.concat([bour_df,bnb],axis=1)"
   ]
  },
  {
   "cell_type": "code",
   "execution_count": null,
   "metadata": {},
   "outputs": [],
   "source": [
    "# dropping neighbourhood_group column"
   ]
  },
  {
   "cell_type": "code",
   "execution_count": 53,
   "metadata": {},
   "outputs": [],
   "source": [
    "bnb=bnb.drop(\"neighbourhood_group\",axis=1)"
   ]
  },
  {
   "cell_type": "code",
   "execution_count": null,
   "metadata": {},
   "outputs": [],
   "source": [
    "# lets move to another categorical column neighbourhood"
   ]
  },
  {
   "cell_type": "code",
   "execution_count": 59,
   "metadata": {},
   "outputs": [
    {
     "data": {
      "text/plain": [
       "Williamsburg          3920\n",
       "Bedford-Stuyvesant    3714\n",
       "Harlem                2658\n",
       "Bushwick              2465\n",
       "Upper West Side       1971\n",
       "Hell's Kitchen        1958\n",
       "East Village          1853\n",
       "Upper East Side       1798\n",
       "Crown Heights         1564\n",
       "Midtown               1545\n",
       "East Harlem           1117\n",
       "Greenpoint            1115\n",
       "Chelsea               1113\n",
       "Lower East Side        911\n",
       "Astoria                900\n",
       "Washington Heights     899\n",
       "West Village           768\n",
       "Financial District     744\n",
       "Flatbush               621\n",
       "Clinton Hill           572\n",
       "Name: neighbourhood, dtype: int64"
      ]
     },
     "execution_count": 59,
     "metadata": {},
     "output_type": "execute_result"
    }
   ],
   "source": [
    "bnb.neighbourhood.value_counts().sort_values(ascending=False).head(20)"
   ]
  },
  {
   "cell_type": "code",
   "execution_count": 73,
   "metadata": {},
   "outputs": [
    {
     "name": "stdout",
     "output_type": "stream",
     "text": [
      "['Williamsburg', 'Bedford-Stuyvesant', 'Harlem', 'Bushwick', 'Upper West Side', \"Hell's Kitchen\", 'East Village', 'Upper East Side', 'Crown Heights', 'Midtown', 'East Harlem', 'Greenpoint', 'Chelsea', 'Lower East Side', 'Astoria', 'Washington Heights', 'West Village', 'Financial District', 'Flatbush', 'Clinton Hill']\n"
     ]
    }
   ],
   "source": [
    "top20_bour=[x for x in bnb.neighbourhood.value_counts().sort_values(ascending=False).head(20).index]\n",
    "print(top20_bour)"
   ]
  },
  {
   "cell_type": "code",
   "execution_count": 75,
   "metadata": {},
   "outputs": [],
   "source": [
    "for label in top20_bour:\n",
    "    bnb[label]=np.where(bnb[\"neighbourhood\"]==label,1,0)"
   ]
  },
  {
   "cell_type": "code",
   "execution_count": null,
   "metadata": {},
   "outputs": [],
   "source": [
    "# lets see the table columns"
   ]
  },
  {
   "cell_type": "code",
   "execution_count": 79,
   "metadata": {},
   "outputs": [
    {
     "data": {
      "text/plain": [
       "Index(['bour__Brooklyn', 'bour__Manhattan', 'bour__Queens',\n",
       "       'bour__Staten Island', 'id', 'host_id', 'neighbourhood', 'latitude',\n",
       "       'longitude', 'room_type', 'price', 'minimum_nights',\n",
       "       'number_of_reviews', 'last_review', 'reviews_per_month',\n",
       "       'calculated_host_listings_count', 'availability_365', 'Williamsburg',\n",
       "       'Bedford-Stuyvesant', 'Harlem', 'Bushwick', 'Upper West Side',\n",
       "       'Hell's Kitchen', 'East Village', 'Upper East Side', 'Crown Heights',\n",
       "       'Midtown', 'East Harlem', 'Greenpoint', 'Chelsea', 'Lower East Side',\n",
       "       'Astoria', 'Washington Heights', 'West Village', 'Financial District',\n",
       "       'Flatbush', 'Clinton Hill'],\n",
       "      dtype='object')"
      ]
     },
     "execution_count": 79,
     "metadata": {},
     "output_type": "execute_result"
    }
   ],
   "source": [
    "bnb.columns"
   ]
  },
  {
   "cell_type": "code",
   "execution_count": null,
   "metadata": {},
   "outputs": [],
   "source": [
    "# as we have encoded neighbourhood column now we will delete this column"
   ]
  },
  {
   "cell_type": "code",
   "execution_count": 80,
   "metadata": {},
   "outputs": [],
   "source": [
    "bnb=bnb.drop(\"neighbourhood\",axis=1)"
   ]
  },
  {
   "cell_type": "code",
   "execution_count": null,
   "metadata": {},
   "outputs": [],
   "source": [
    "# Lets apply one hot encoding to roomtype column"
   ]
  },
  {
   "cell_type": "code",
   "execution_count": 84,
   "metadata": {},
   "outputs": [],
   "source": [
    "room=pd.get_dummies(bnb[\"room_type\"],prefix=\"room_\",drop_first=True)"
   ]
  },
  {
   "cell_type": "code",
   "execution_count": 85,
   "metadata": {},
   "outputs": [],
   "source": [
    "room_df=pd.DataFrame(room,columns=room.columns)"
   ]
  },
  {
   "cell_type": "code",
   "execution_count": 86,
   "metadata": {},
   "outputs": [],
   "source": [
    "bnb=pd.concat([room_df,bnb],axis=1)"
   ]
  },
  {
   "cell_type": "code",
   "execution_count": 87,
   "metadata": {},
   "outputs": [],
   "source": [
    "bnb=bnb.drop(\"room_type\",axis=1)"
   ]
  },
  {
   "cell_type": "code",
   "execution_count": null,
   "metadata": {},
   "outputs": [],
   "source": [
    "# Lets look at the last_review column and apply OHE"
   ]
  },
  {
   "cell_type": "code",
   "execution_count": 97,
   "metadata": {},
   "outputs": [],
   "source": [
    "top10_review=[x for x in bnb.last_review.value_counts().sort_values(ascending=False).head(10).index]"
   ]
  },
  {
   "cell_type": "code",
   "execution_count": 98,
   "metadata": {},
   "outputs": [],
   "source": [
    "for label in top10_review:\n",
    "    bnb[label]=np.where(bnb[\"last_review\"]==label,1,0)"
   ]
  },
  {
   "cell_type": "code",
   "execution_count": 101,
   "metadata": {},
   "outputs": [],
   "source": [
    "bnb=bnb.drop(\"last_review\",axis=1)"
   ]
  },
  {
   "cell_type": "code",
   "execution_count": null,
   "metadata": {},
   "outputs": [],
   "source": [
    "# lets look at the data types of columns"
   ]
  },
  {
   "cell_type": "code",
   "execution_count": 103,
   "metadata": {},
   "outputs": [
    {
     "data": {
      "text/plain": [
       "room__Private room                  uint8\n",
       "room__Shared room                   uint8\n",
       "bour__Brooklyn                      uint8\n",
       "bour__Manhattan                     uint8\n",
       "bour__Queens                        uint8\n",
       "bour__Staten Island                 uint8\n",
       "id                                  int64\n",
       "host_id                             int64\n",
       "latitude                          float64\n",
       "longitude                         float64\n",
       "price                               int64\n",
       "minimum_nights                      int64\n",
       "number_of_reviews                   int64\n",
       "reviews_per_month                 float64\n",
       "calculated_host_listings_count      int64\n",
       "availability_365                    int64\n",
       "Williamsburg                        int32\n",
       "Bedford-Stuyvesant                  int32\n",
       "Harlem                              int32\n",
       "Bushwick                            int32\n",
       "Upper West Side                     int32\n",
       "Hell's Kitchen                      int32\n",
       "East Village                        int32\n",
       "Upper East Side                     int32\n",
       "Crown Heights                       int32\n",
       "Midtown                             int32\n",
       "East Harlem                         int32\n",
       "Greenpoint                          int32\n",
       "Chelsea                             int32\n",
       "Lower East Side                     int32\n",
       "Astoria                             int32\n",
       "Washington Heights                  int32\n",
       "West Village                        int32\n",
       "Financial District                  int32\n",
       "Flatbush                            int32\n",
       "Clinton Hill                        int32\n",
       "0000-00-00                          int32\n",
       "2019-06-23                          int32\n",
       "2019-07-01                          int32\n",
       "2019-06-30                          int32\n",
       "2019-06-24                          int32\n",
       "2019-07-07                          int32\n",
       "2019-07-02                          int32\n",
       "2019-06-22                          int32\n",
       "2019-06-16                          int32\n",
       "2019-07-05                          int32\n",
       "dtype: object"
      ]
     },
     "execution_count": 103,
     "metadata": {},
     "output_type": "execute_result"
    }
   ],
   "source": [
    "bnb.dtypes"
   ]
  },
  {
   "cell_type": "code",
   "execution_count": null,
   "metadata": {},
   "outputs": [],
   "source": [
    "# looks like everything is fine and we can proceed to apply ml algo"
   ]
  },
  {
   "cell_type": "code",
   "execution_count": 104,
   "metadata": {},
   "outputs": [],
   "source": [
    "y=bnb[\"price\"]\n",
    "x=bnb.drop(\"price\",axis=1)"
   ]
  },
  {
   "cell_type": "code",
   "execution_count": null,
   "metadata": {},
   "outputs": [],
   "source": [
    "# Lets check for which features are important"
   ]
  },
  {
   "cell_type": "code",
   "execution_count": null,
   "metadata": {},
   "outputs": [],
   "source": [
    "model=ExtraTreesClassifier()\n",
    "model.fit(x,y)\n",
    "print(model.feature_importances_)\n",
    "feat_importances = pd.Series(model.feature_importances_, index=x.columns)\n",
    "feat_importances.nlargest(30).plot(kind='barh')\n",
    "plt.show()"
   ]
  },
  {
   "cell_type": "code",
   "execution_count": 108,
   "metadata": {},
   "outputs": [
    {
     "name": "stderr",
     "output_type": "stream",
     "text": [
      "c:\\users\\acer\\appdata\\local\\programs\\python\\python36\\lib\\site-packages\\sklearn\\ensemble\\forest.py:245: FutureWarning: The default value of n_estimators will change from 10 in version 0.20 to 100 in 0.22.\n",
      "  \"10 in version 0.20 to 100 in 0.22.\", FutureWarning)\n"
     ]
    },
    {
     "name": "stdout",
     "output_type": "stream",
     "text": [
      "[0.01082762 0.00200458 0.00118307 0.00129892 0.00131761 0.00031223\n",
      " 0.12883398 0.11767347 0.12786075 0.12805559 0.09251678 0.08493119\n",
      " 0.09099497 0.05177381 0.08729326 0.00113837 0.00148945 0.00093494\n",
      " 0.00074998 0.00209724 0.00145035 0.00170569 0.00117452 0.00172541\n",
      " 0.00141738 0.0009374  0.00091658 0.0011828  0.00133962 0.00153886\n",
      " 0.00051017 0.00113687 0.00068914 0.00108549 0.00103409 0.00669154\n",
      " 0.00662833 0.00575982 0.00629999 0.00476329 0.00380772 0.00396108\n",
      " 0.0039501  0.0035579  0.00344802]\n"
     ]
    }
   ],
   "source": [
    "model=ExtraTreesClassifier()\n",
    "model.fit(x,y)\n",
    "print(model.feature_importances_)"
   ]
  },
  {
   "cell_type": "code",
   "execution_count": 121,
   "metadata": {},
   "outputs": [
    {
     "data": {
      "image/png": "[encoded data removed]",
      "text/plain": [
       "<Figure size 1080x720 with 1 Axes>"
      ]
     },
     "metadata": {
      "needs_background": "light"
     },
     "output_type": "display_data"
    }
   ],
   "source": [
    "fig=plt.figure(figsize=(15,10))\n",
    "feat_imp=pd.Series(model.feature_importances_,index=x.columns)\n",
    "feat_imp.nlargest(46).plot(kind=\"bar\",color=\"green\")\n",
    "plt.show()"
   ]
  },
  {
   "cell_type": "code",
   "execution_count": null,
   "metadata": {},
   "outputs": [],
   "source": [
    "model=ExtraTreesClassifier()\n",
    "model.fit(x,y)\n",
    "print(model.feature_importances_)"
   ]
  },
  {
   "cell_type": "code",
   "execution_count": 125,
   "metadata": {},
   "outputs": [
    {
     "data": {
      "image/png": "[encoded data removed]",
      "text/plain": [
       "<Figure size 1080x504 with 1 Axes>"
      ]
     },
     "metadata": {
      "needs_background": "light"
     },
     "output_type": "display_data"
    }
   ],
   "source": [
    "fig=plt.figure(figsize=(15,7))\n",
    "feat_imp=pd.Series(model.feature_importances_,index=x.columns)\n",
    "feat_imp.nsmallest(46).plot(kind=\"bar\",color=\"red\")\n",
    "plt.show()"
   ]
  },
  {
   "cell_type": "code",
   "execution_count": null,
   "metadata": {},
   "outputs": [],
   "source": [
    "# Lets divide our data into train and test"
   ]
  },
  {
   "cell_type": "code",
   "execution_count": 126,
   "metadata": {},
   "outputs": [],
   "source": [
    "x_train,x_test,y_train,y_test=train_test_split(x,y,test_size=0.3,random_state=42)"
   ]
  },
  {
   "cell_type": "code",
   "execution_count": null,
   "metadata": {},
   "outputs": [],
   "source": [
    "# lets see the shape of train and test dataset"
   ]
  },
  {
   "cell_type": "code",
   "execution_count": 127,
   "metadata": {},
   "outputs": [
    {
     "name": "stdout",
     "output_type": "stream",
     "text": [
      "shape of x_train is: (34226, 45)\n",
      "shape of y_train is: (34226,)\n",
      "shape of x_test is: (14669, 45)\n",
      "shape of y_test is: (14669,)\n"
     ]
    }
   ],
   "source": [
    "print(\"shape of x_train is:\",x_train.shape)\n",
    "print(\"shape of y_train is:\",y_train.shape)\n",
    "print(\"shape of x_test is:\",x_test.shape)\n",
    "print(\"shape of y_test is:\",y_test.shape)"
   ]
  },
  {
   "cell_type": "code",
   "execution_count": null,
   "metadata": {},
   "outputs": [],
   "source": [
    "# Lets apply ml algo"
   ]
  },
  {
   "cell_type": "code",
   "execution_count": 137,
   "metadata": {},
   "outputs": [],
   "source": [
    "lr=LinearRegression()\n",
    "lr.fit(x_train,y_train)\n",
    "prediction=lr.predict(x_test)"
   ]
  },
  {
   "cell_type": "code",
   "execution_count": 138,
   "metadata": {},
   "outputs": [
    {
     "name": "stdout",
     "output_type": "stream",
     "text": [
      "       Actual   predicted\n",
      "879        89  190.399548\n",
      "44383      30   98.388812\n",
      "15394     120  110.798650\n",
      "43230     470  207.534673\n",
      "16332     199  171.854811\n",
      "...       ...         ...\n",
      "9370       65  103.034856\n",
      "34442      55   99.961957\n",
      "9164       90  121.838658\n",
      "11841      95  103.451377\n",
      "46958      97  207.954922\n",
      "\n",
      "[14669 rows x 2 columns]\n"
     ]
    }
   ],
   "source": [
    "output=pd.DataFrame({\"Actual\":y_test,\"predicted\":prediction})\n",
    "print(output)"
   ]
  },
  {
   "cell_type": "code",
   "execution_count": 139,
   "metadata": {},
   "outputs": [
    {
     "name": "stdout",
     "output_type": "stream",
     "text": [
      "estimated intercept is -19358.523046763836\n",
      "the no of coefficient in model are [-1.03765016e+02 -1.43848479e+02 -2.33393179e+01  5.84339528e+01\n",
      " -3.36407162e+00 -1.10046060e+02 -1.89640666e-07  6.32068748e-08\n",
      " -1.73009655e+02 -3.59287879e+02 -6.78225458e-02 -1.80097341e-01\n",
      " -4.41079020e-01 -2.45219646e-01  1.93416454e-01  3.62893361e+01\n",
      "  7.89770344e-01 -4.54683961e+01  2.09348153e+00  1.24882837e+01\n",
      " -1.23291024e+01 -2.66887266e+01 -2.16767971e+01 -3.32252692e+00\n",
      "  4.03291119e+01 -3.12308592e+01  2.05242232e+01  1.49443786e+01\n",
      " -1.46624980e+01  1.29727463e+01 -6.42695692e+01  2.72901392e+01\n",
      " -1.87126775e+01 -2.62691281e+01  4.69847318e+01  4.70977725e+01\n",
      " -3.71000152e+00  7.43600270e-01 -5.66759039e+00  5.02211653e+00\n",
      "  1.84545735e+01  1.16776654e+00 -2.34224152e+00 -6.52252700e-01\n",
      "  5.48372130e+00]\n",
      "mean abs error: 70.09018766022344\n",
      "mean sq error: 34347.52417030205\n",
      "root mean sq error: 185.33085056272216\n",
      "variance score: 0.15\n",
      "                              feat         coeff\n",
      "0               room__Private room -1.037650e+02\n",
      "1                room__Shared room -1.438485e+02\n",
      "2                   bour__Brooklyn -2.333932e+01\n",
      "3                  bour__Manhattan  5.843395e+01\n",
      "4                     bour__Queens -3.364072e+00\n",
      "5              bour__Staten Island -1.100461e+02\n",
      "6                               id -1.896407e-07\n",
      "7                          host_id  6.320687e-08\n",
      "8                         latitude -1.730097e+02\n",
      "9                        longitude -3.592879e+02\n",
      "10                  minimum_nights -6.782255e-02\n",
      "11               number_of_reviews -1.800973e-01\n",
      "12               reviews_per_month -4.410790e-01\n",
      "13  calculated_host_listings_count -2.452196e-01\n",
      "14                availability_365  1.934165e-01\n",
      "15                    Williamsburg  3.628934e+01\n",
      "16              Bedford-Stuyvesant  7.897703e-01\n",
      "17                          Harlem -4.546840e+01\n",
      "18                        Bushwick  2.093482e+00\n",
      "19                 Upper West Side  1.248828e+01\n",
      "20                  Hell's Kitchen -1.232910e+01\n",
      "21                    East Village -2.668873e+01\n",
      "22                 Upper East Side -2.167680e+01\n",
      "23                   Crown Heights -3.322527e+00\n",
      "24                         Midtown  4.032911e+01\n",
      "25                     East Harlem -3.123086e+01\n",
      "26                      Greenpoint  2.052422e+01\n",
      "27                         Chelsea  1.494438e+01\n",
      "28                 Lower East Side -1.466250e+01\n",
      "29                         Astoria  1.297275e+01\n",
      "30              Washington Heights -6.426957e+01\n",
      "31                    West Village  2.729014e+01\n",
      "32              Financial District -1.871268e+01\n",
      "33                        Flatbush -2.626913e+01\n",
      "34                    Clinton Hill  4.698473e+01\n",
      "35                      0000-00-00  4.709777e+01\n",
      "36                      2019-06-23 -3.710002e+00\n",
      "37                      2019-07-01  7.436003e-01\n",
      "38                      2019-06-30 -5.667590e+00\n",
      "39                      2019-06-24  5.022117e+00\n",
      "40                      2019-07-07  1.845457e+01\n",
      "41                      2019-07-02  1.167767e+00\n",
      "42                      2019-06-22 -2.342242e+00\n",
      "43                      2019-06-16 -6.522527e-01\n",
      "44                      2019-07-05  5.483721e+00\n"
     ]
    }
   ],
   "source": [
    "print(\"estimated intercept is\",lr.intercept_)\n",
    "print(\"the no of coefficient in model are\",lr.coef_)\n",
    "print(\"mean abs error:\",mean_absolute_error(y_test,prediction))\n",
    "print(\"mean sq error:\",mean_squared_error(y_test,prediction))\n",
    "print(\"root mean sq error:\",np.sqrt(mean_squared_error(y_test,prediction)))\n",
    "print(\"variance score: %.2f\" % lr.score(x_test,y_test))\n",
    "coef=zip(x.columns,lr.coef_)\n",
    "coef_df=pd.DataFrame(list(coef),columns=[\"feat\",\"coeff\"])\n",
    "print(coef_df)"
   ]
  },
  {
   "cell_type": "code",
   "execution_count": null,
   "metadata": {},
   "outputs": [],
   "source": []
  },
  {
   "cell_type": "code",
   "execution_count": 134,
   "metadata": {},
   "outputs": [],
   "source": [
    "dt=DecisionTreeRegressor()\n",
    "dt.fit(x_train,y_train)\n",
    "prediction=dt.predict(x_test)"
   ]
  },
  {
   "cell_type": "code",
   "execution_count": 135,
   "metadata": {},
   "outputs": [
    {
     "name": "stdout",
     "output_type": "stream",
     "text": [
      "       Actual  predicted\n",
      "879        89       95.0\n",
      "44383      30       55.0\n",
      "15394     120       90.0\n",
      "43230     470      256.0\n",
      "16332     199      125.0\n",
      "...       ...        ...\n",
      "9370       65       90.0\n",
      "34442      55       80.0\n",
      "9164       90      110.0\n",
      "11841      95       95.0\n",
      "46958      97      195.0\n",
      "\n",
      "[14669 rows x 2 columns]\n"
     ]
    }
   ],
   "source": [
    "output=pd.DataFrame({\"Actual\":y_test,\"predicted\":prediction})\n",
    "print(output)"
   ]
  },
  {
   "cell_type": "code",
   "execution_count": 136,
   "metadata": {},
   "outputs": [
    {
     "name": "stdout",
     "output_type": "stream",
     "text": [
      "estimated intercept is -19358.523046763836\n",
      "the no of coefficient in model are [-1.03765016e+02 -1.43848479e+02 -2.33393179e+01  5.84339528e+01\n",
      " -3.36407162e+00 -1.10046060e+02 -1.89640666e-07  6.32068748e-08\n",
      " -1.73009655e+02 -3.59287879e+02 -6.78225458e-02 -1.80097341e-01\n",
      " -4.41079020e-01 -2.45219646e-01  1.93416454e-01  3.62893361e+01\n",
      "  7.89770344e-01 -4.54683961e+01  2.09348153e+00  1.24882837e+01\n",
      " -1.23291024e+01 -2.66887266e+01 -2.16767971e+01 -3.32252692e+00\n",
      "  4.03291119e+01 -3.12308592e+01  2.05242232e+01  1.49443786e+01\n",
      " -1.46624980e+01  1.29727463e+01 -6.42695692e+01  2.72901392e+01\n",
      " -1.87126775e+01 -2.62691281e+01  4.69847318e+01  4.70977725e+01\n",
      " -3.71000152e+00  7.43600270e-01 -5.66759039e+00  5.02211653e+00\n",
      "  1.84545735e+01  1.16776654e+00 -2.34224152e+00 -6.52252700e-01\n",
      "  5.48372130e+00]\n",
      "mean abs error: 80.97832163064967\n",
      "mean sq error: 67028.49458040766\n",
      "root mean sq error: 258.89861834395265\n",
      "variance score: 0.15\n",
      "                              feat         coeff\n",
      "0               room__Private room -1.037650e+02\n",
      "1                room__Shared room -1.438485e+02\n",
      "2                   bour__Brooklyn -2.333932e+01\n",
      "3                  bour__Manhattan  5.843395e+01\n",
      "4                     bour__Queens -3.364072e+00\n",
      "5              bour__Staten Island -1.100461e+02\n",
      "6                               id -1.896407e-07\n",
      "7                          host_id  6.320687e-08\n",
      "8                         latitude -1.730097e+02\n",
      "9                        longitude -3.592879e+02\n",
      "10                  minimum_nights -6.782255e-02\n",
      "11               number_of_reviews -1.800973e-01\n",
      "12               reviews_per_month -4.410790e-01\n",
      "13  calculated_host_listings_count -2.452196e-01\n",
      "14                availability_365  1.934165e-01\n",
      "15                    Williamsburg  3.628934e+01\n",
      "16              Bedford-Stuyvesant  7.897703e-01\n",
      "17                          Harlem -4.546840e+01\n",
      "18                        Bushwick  2.093482e+00\n",
      "19                 Upper West Side  1.248828e+01\n",
      "20                  Hell's Kitchen -1.232910e+01\n",
      "21                    East Village -2.668873e+01\n",
      "22                 Upper East Side -2.167680e+01\n",
      "23                   Crown Heights -3.322527e+00\n",
      "24                         Midtown  4.032911e+01\n",
      "25                     East Harlem -3.123086e+01\n",
      "26                      Greenpoint  2.052422e+01\n",
      "27                         Chelsea  1.494438e+01\n",
      "28                 Lower East Side -1.466250e+01\n",
      "29                         Astoria  1.297275e+01\n",
      "30              Washington Heights -6.426957e+01\n",
      "31                    West Village  2.729014e+01\n",
      "32              Financial District -1.871268e+01\n",
      "33                        Flatbush -2.626913e+01\n",
      "34                    Clinton Hill  4.698473e+01\n",
      "35                      0000-00-00  4.709777e+01\n",
      "36                      2019-06-23 -3.710002e+00\n",
      "37                      2019-07-01  7.436003e-01\n",
      "38                      2019-06-30 -5.667590e+00\n",
      "39                      2019-06-24  5.022117e+00\n",
      "40                      2019-07-07  1.845457e+01\n",
      "41                      2019-07-02  1.167767e+00\n",
      "42                      2019-06-22 -2.342242e+00\n",
      "43                      2019-06-16 -6.522527e-01\n",
      "44                      2019-07-05  5.483721e+00\n"
     ]
    }
   ],
   "source": [
    "print(\"estimated intercept is\",lr.intercept_)\n",
    "print(\"the no of coefficient in model are\",lr.coef_)\n",
    "print(\"mean abs error:\",mean_absolute_error(y_test,prediction))\n",
    "print(\"mean sq error:\",mean_squared_error(y_test,prediction))\n",
    "print(\"root mean sq error:\",np.sqrt(mean_squared_error(y_test,prediction)))\n",
    "print(\"variance score: %.2f\" % lr.score(x_test,y_test))\n",
    "coef=zip(x.columns,lr.coef_)\n",
    "coef_df=pd.DataFrame(list(coef),columns=[\"feat\",\"coeff\"])\n",
    "print(coef_df)"
   ]
  },
  {
   "cell_type": "code",
   "execution_count": 141,
   "metadata": {},
   "outputs": [
    {
     "name": "stderr",
     "output_type": "stream",
     "text": [
      "c:\\users\\acer\\appdata\\local\\programs\\python\\python36\\lib\\site-packages\\sklearn\\ensemble\\forest.py:245: FutureWarning: The default value of n_estimators will change from 10 in version 0.20 to 100 in 0.22.\n",
      "  \"10 in version 0.20 to 100 in 0.22.\", FutureWarning)\n"
     ]
    }
   ],
   "source": [
    "rf=RandomForestRegressor()\n",
    "rf.fit(x_train,y_train)\n",
    "prediction=rf.predict(x_test)"
   ]
  },
  {
   "cell_type": "code",
   "execution_count": 142,
   "metadata": {},
   "outputs": [
    {
     "name": "stdout",
     "output_type": "stream",
     "text": [
      "       Actual  predicted\n",
      "879        89      126.4\n",
      "44383      30       55.0\n",
      "15394     120      100.3\n",
      "43230     470      260.8\n",
      "16332     199      133.0\n",
      "...       ...        ...\n",
      "9370       65       92.8\n",
      "34442      55      106.2\n",
      "9164       90       75.5\n",
      "11841      95      111.0\n",
      "46958      97      111.5\n",
      "\n",
      "[14669 rows x 2 columns]\n"
     ]
    }
   ],
   "source": [
    "output=pd.DataFrame({\"Actual\":y_test,\"predicted\":prediction})\n",
    "print(output)"
   ]
  },
  {
   "cell_type": "code",
   "execution_count": 145,
   "metadata": {},
   "outputs": [
    {
     "name": "stdout",
     "output_type": "stream",
     "text": [
      "estimated intercept is -19358.523046763836\n",
      "the no of coefficient in model are [-1.03765016e+02 -1.43848479e+02 -2.33393179e+01  5.84339528e+01\n",
      " -3.36407162e+00 -1.10046060e+02 -1.89640666e-07  6.32068748e-08\n",
      " -1.73009655e+02 -3.59287879e+02 -6.78225458e-02 -1.80097341e-01\n",
      " -4.41079020e-01 -2.45219646e-01  1.93416454e-01  3.62893361e+01\n",
      "  7.89770344e-01 -4.54683961e+01  2.09348153e+00  1.24882837e+01\n",
      " -1.23291024e+01 -2.66887266e+01 -2.16767971e+01 -3.32252692e+00\n",
      "  4.03291119e+01 -3.12308592e+01  2.05242232e+01  1.49443786e+01\n",
      " -1.46624980e+01  1.29727463e+01 -6.42695692e+01  2.72901392e+01\n",
      " -1.87126775e+01 -2.62691281e+01  4.69847318e+01  4.70977725e+01\n",
      " -3.71000152e+00  7.43600270e-01 -5.66759039e+00  5.02211653e+00\n",
      "  1.84545735e+01  1.16776654e+00 -2.34224152e+00 -6.52252700e-01\n",
      "  5.48372130e+00]\n",
      "mean abs error: 67.32204649260346\n",
      "mean sq error: 36037.457149771624\n",
      "root mean sq error: 189.83534220416288\n",
      "variance score: 0.15\n",
      "                              feat         coeff\n",
      "0               room__Private room -1.037650e+02\n",
      "1                room__Shared room -1.438485e+02\n",
      "2                   bour__Brooklyn -2.333932e+01\n",
      "3                  bour__Manhattan  5.843395e+01\n",
      "4                     bour__Queens -3.364072e+00\n",
      "5              bour__Staten Island -1.100461e+02\n",
      "6                               id -1.896407e-07\n",
      "7                          host_id  6.320687e-08\n",
      "8                         latitude -1.730097e+02\n",
      "9                        longitude -3.592879e+02\n",
      "10                  minimum_nights -6.782255e-02\n",
      "11               number_of_reviews -1.800973e-01\n",
      "12               reviews_per_month -4.410790e-01\n",
      "13  calculated_host_listings_count -2.452196e-01\n",
      "14                availability_365  1.934165e-01\n",
      "15                    Williamsburg  3.628934e+01\n",
      "16              Bedford-Stuyvesant  7.897703e-01\n",
      "17                          Harlem -4.546840e+01\n",
      "18                        Bushwick  2.093482e+00\n",
      "19                 Upper West Side  1.248828e+01\n",
      "20                  Hell's Kitchen -1.232910e+01\n",
      "21                    East Village -2.668873e+01\n",
      "22                 Upper East Side -2.167680e+01\n",
      "23                   Crown Heights -3.322527e+00\n",
      "24                         Midtown  4.032911e+01\n",
      "25                     East Harlem -3.123086e+01\n",
      "26                      Greenpoint  2.052422e+01\n",
      "27                         Chelsea  1.494438e+01\n",
      "28                 Lower East Side -1.466250e+01\n",
      "29                         Astoria  1.297275e+01\n",
      "30              Washington Heights -6.426957e+01\n",
      "31                    West Village  2.729014e+01\n",
      "32              Financial District -1.871268e+01\n",
      "33                        Flatbush -2.626913e+01\n",
      "34                    Clinton Hill  4.698473e+01\n",
      "35                      0000-00-00  4.709777e+01\n",
      "36                      2019-06-23 -3.710002e+00\n",
      "37                      2019-07-01  7.436003e-01\n",
      "38                      2019-06-30 -5.667590e+00\n",
      "39                      2019-06-24  5.022117e+00\n",
      "40                      2019-07-07  1.845457e+01\n",
      "41                      2019-07-02  1.167767e+00\n",
      "42                      2019-06-22 -2.342242e+00\n",
      "43                      2019-06-16 -6.522527e-01\n",
      "44                      2019-07-05  5.483721e+00\n"
     ]
    }
   ],
   "source": [
    "print(\"estimated intercept is\",lr.intercept_)\n",
    "print(\"the no of coefficient in model are\",lr.coef_)\n",
    "print(\"mean abs error:\",mean_absolute_error(y_test,prediction))\n",
    "print(\"mean sq error:\",mean_squared_error(y_test,prediction))\n",
    "print(\"root mean sq error:\",np.sqrt(mean_squared_error(y_test,prediction)))\n",
    "print(\"variance score: %.2f\" % lr.score(x_test,y_test))\n",
    "coef=zip(x.columns,lr.coef_)\n",
    "coef_df=pd.DataFrame(list(coef),columns=[\"feat\",\"coeff\"])\n",
    "print(coef_df)"
   ]
  },
  {
   "cell_type": "code",
   "execution_count": 147,
   "metadata": {},
   "outputs": [],
   "source": [
    "br=BaggingRegressor()\n",
    "br.fit(x_train,y_train)\n",
    "prediction=br.predict(x_test)"
   ]
  },
  {
   "cell_type": "code",
   "execution_count": 148,
   "metadata": {},
   "outputs": [
    {
     "name": "stdout",
     "output_type": "stream",
     "text": [
      "       Actual  predicted\n",
      "879        89      209.8\n",
      "44383      30       64.2\n",
      "15394     120       95.1\n",
      "43230     470      274.8\n",
      "16332     199      140.0\n",
      "...       ...        ...\n",
      "9370       65      100.4\n",
      "34442      55       76.6\n",
      "9164       90       76.1\n",
      "11841      95       95.5\n",
      "46958      97      138.7\n",
      "\n",
      "[14669 rows x 2 columns]\n"
     ]
    }
   ],
   "source": [
    "output=pd.DataFrame({\"Actual\":y_test,\"predicted\":prediction})\n",
    "print(output)"
   ]
  },
  {
   "cell_type": "code",
   "execution_count": 149,
   "metadata": {},
   "outputs": [
    {
     "name": "stdout",
     "output_type": "stream",
     "text": [
      "estimated intercept is -19358.523046763836\n",
      "the no of coefficient in model are [-1.03765016e+02 -1.43848479e+02 -2.33393179e+01  5.84339528e+01\n",
      " -3.36407162e+00 -1.10046060e+02 -1.89640666e-07  6.32068748e-08\n",
      " -1.73009655e+02 -3.59287879e+02 -6.78225458e-02 -1.80097341e-01\n",
      " -4.41079020e-01 -2.45219646e-01  1.93416454e-01  3.62893361e+01\n",
      "  7.89770344e-01 -4.54683961e+01  2.09348153e+00  1.24882837e+01\n",
      " -1.23291024e+01 -2.66887266e+01 -2.16767971e+01 -3.32252692e+00\n",
      "  4.03291119e+01 -3.12308592e+01  2.05242232e+01  1.49443786e+01\n",
      " -1.46624980e+01  1.29727463e+01 -6.42695692e+01  2.72901392e+01\n",
      " -1.87126775e+01 -2.62691281e+01  4.69847318e+01  4.70977725e+01\n",
      " -3.71000152e+00  7.43600270e-01 -5.66759039e+00  5.02211653e+00\n",
      "  1.84545735e+01  1.16776654e+00 -2.34224152e+00 -6.52252700e-01\n",
      "  5.48372130e+00]\n",
      "mean abs error: 68.18433431045061\n",
      "mean sq error: 37457.688714977165\n",
      "root mean sq error: 193.53988920885834\n",
      "variance score: 0.15\n",
      "                              feat         coeff\n",
      "0               room__Private room -1.037650e+02\n",
      "1                room__Shared room -1.438485e+02\n",
      "2                   bour__Brooklyn -2.333932e+01\n",
      "3                  bour__Manhattan  5.843395e+01\n",
      "4                     bour__Queens -3.364072e+00\n",
      "5              bour__Staten Island -1.100461e+02\n",
      "6                               id -1.896407e-07\n",
      "7                          host_id  6.320687e-08\n",
      "8                         latitude -1.730097e+02\n",
      "9                        longitude -3.592879e+02\n",
      "10                  minimum_nights -6.782255e-02\n",
      "11               number_of_reviews -1.800973e-01\n",
      "12               reviews_per_month -4.410790e-01\n",
      "13  calculated_host_listings_count -2.452196e-01\n",
      "14                availability_365  1.934165e-01\n",
      "15                    Williamsburg  3.628934e+01\n",
      "16              Bedford-Stuyvesant  7.897703e-01\n",
      "17                          Harlem -4.546840e+01\n",
      "18                        Bushwick  2.093482e+00\n",
      "19                 Upper West Side  1.248828e+01\n",
      "20                  Hell's Kitchen -1.232910e+01\n",
      "21                    East Village -2.668873e+01\n",
      "22                 Upper East Side -2.167680e+01\n",
      "23                   Crown Heights -3.322527e+00\n",
      "24                         Midtown  4.032911e+01\n",
      "25                     East Harlem -3.123086e+01\n",
      "26                      Greenpoint  2.052422e+01\n",
      "27                         Chelsea  1.494438e+01\n",
      "28                 Lower East Side -1.466250e+01\n",
      "29                         Astoria  1.297275e+01\n",
      "30              Washington Heights -6.426957e+01\n",
      "31                    West Village  2.729014e+01\n",
      "32              Financial District -1.871268e+01\n",
      "33                        Flatbush -2.626913e+01\n",
      "34                    Clinton Hill  4.698473e+01\n",
      "35                      0000-00-00  4.709777e+01\n",
      "36                      2019-06-23 -3.710002e+00\n",
      "37                      2019-07-01  7.436003e-01\n",
      "38                      2019-06-30 -5.667590e+00\n",
      "39                      2019-06-24  5.022117e+00\n",
      "40                      2019-07-07  1.845457e+01\n",
      "41                      2019-07-02  1.167767e+00\n",
      "42                      2019-06-22 -2.342242e+00\n",
      "43                      2019-06-16 -6.522527e-01\n",
      "44                      2019-07-05  5.483721e+00\n"
     ]
    }
   ],
   "source": [
    "print(\"estimated intercept is\",lr.intercept_)\n",
    "print(\"the no of coefficient in model are\",lr.coef_)\n",
    "print(\"mean abs error:\",mean_absolute_error(y_test,prediction))\n",
    "print(\"mean sq error:\",mean_squared_error(y_test,prediction))\n",
    "print(\"root mean sq error:\",np.sqrt(mean_squared_error(y_test,prediction)))\n",
    "print(\"variance score: %.2f\" % lr.score(x_test,y_test))\n",
    "coef=zip(x.columns,lr.coef_)\n",
    "coef_df=pd.DataFrame(list(coef),columns=[\"feat\",\"coeff\"])\n",
    "print(coef_df)"
   ]
  },
  {
   "cell_type": "code",
   "execution_count": null,
   "metadata": {},
   "outputs": [],
   "source": []
  },
  {
   "cell_type": "code",
   "execution_count": null,
   "metadata": {},
   "outputs": [],
   "source": []
  },
  {
   "cell_type": "code",
   "execution_count": null,
   "metadata": {},
   "outputs": [],
   "source": []
  },
  {
   "cell_type": "code",
   "execution_count": null,
   "metadata": {},
   "outputs": [],
   "source": []
  },
  {
   "cell_type": "code",
   "execution_count": null,
   "metadata": {},
   "outputs": [],
   "source": []
  },
  {
   "cell_type": "code",
   "execution_count": null,
   "metadata": {},
   "outputs": [],
   "source": []
  },
  {
   "cell_type": "code",
   "execution_count": null,
   "metadata": {},
   "outputs": [],
   "source": []
  },
  {
   "cell_type": "code",
   "execution_count": null,
   "metadata": {},
   "outputs": [],
   "source": []
  }
 ],
 "metadata": {
  "kernelspec": {
   "display_name": "Python 3",
   "language": "python",
   "name": "python3"
  },
  "language_info": {
   "codemirror_mode": {
    "name": "ipython",
    "version": 3
   },
   "file_extension": ".py",
   "mimetype": "text/x-python",
   "name": "python",
   "nbconvert_exporter": "python",
   "pygments_lexer": "ipython3",
   "version": "3.6.5"
  }
 },
 "nbformat": 4,
 "nbformat_minor": 2
}
